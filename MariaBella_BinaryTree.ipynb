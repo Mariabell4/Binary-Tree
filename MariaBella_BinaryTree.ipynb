{
  "nbformat": 4,
  "nbformat_minor": 0,
  "metadata": {
    "colab": {
      "provenance": [],
      "authorship_tag": "ABX9TyOZjMMopBkHPRMPuRymc2q8",
      "include_colab_link": true
    },
    "kernelspec": {
      "name": "python3",
      "display_name": "Python 3"
    },
    "language_info": {
      "name": "python"
    }
  },
  "cells": [
    {
      "cell_type": "markdown",
      "metadata": {
        "id": "view-in-github",
        "colab_type": "text"
      },
      "source": [
        "<a href=\"https://colab.research.google.com/github/Mariabell4/Binary-Tree/blob/main/MariaBella_BinaryTree.ipynb\" target=\"_parent\"><img src=\"https://colab.research.google.com/assets/colab-badge.svg\" alt=\"Open In Colab\"/></a>"
      ]
    },
    {
      "cell_type": "code",
      "execution_count": null,
      "metadata": {
        "id": "DRsm-1RMir2V"
      },
      "outputs": [],
      "source": [
        "# Membuat struktur node\n",
        "class Node:\n",
        "  def __init__(self, value):\n",
        "    self.value = value\n",
        "    self.left = None\n",
        "    self.right = None\n",
        "\n",
        "# Post-order traversal: kiri, kanan, root\n",
        "def post_order(node):\n",
        "  if node:\n",
        "    post_order(node.left)\n",
        "    post_order(node.right)\n",
        "    print(node.value)\n",
        "\n",
        "# Contoh pembuatan tree\n",
        "#       A\n",
        "#      / \\\n",
        "#     B   C\n",
        "#    / \\\n",
        "#   D   E\n",
        "#        \\\n",
        "#         F\n",
        "\n",
        "root = Node(\"A\")\n",
        "root.left = Node(\"B\")\n",
        "root.right = Node(\"C\")\n",
        "root.left.left = Node(\"D\")\n",
        "root.left.right = Node(\"E\")\n",
        "root.left.right.right = Node(\"F\")\n",
        "\n",
        "# Jalankan post-order traversal\n",
        "print(\"Hasil post-order:\")\n",
        "post_order(root)"
      ]
    }
  ]
}